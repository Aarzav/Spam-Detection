{
 "cells": [
  {
   "cell_type": "markdown",
   "id": "7f0e41e3",
   "metadata": {},
   "source": [
    "# A Fraud Detection Project Using Text Data"
   ]
  },
  {
   "cell_type": "markdown",
   "id": "9b95740f",
   "metadata": {},
   "source": [
    "## Important libraries"
   ]
  },
  {
   "cell_type": "code",
   "execution_count": 1,
   "id": "3fd187a4",
   "metadata": {},
   "outputs": [],
   "source": [
    "# pandas & numpy: Data manipulation and analysis\n",
    "import numpy as np\n",
    "import pandas as pd\n",
    "\n",
    "# visualization: Data visualization libraries\n",
    "import matplotlib.pyplot as plt  # Matplotlib for basic plotting\n",
    "import seaborn as sns  # Seaborn for enhancing data visualizations\n",
    "\n",
    "# tokenization: Text processing and NLP libraries\n",
    "import re  # Regular expressions for text pattern matching\n",
    "import nltk  # The Natural Language Toolkit for various NLP tasks\n",
    "from nltk.stem import PorterStemmer, WordNetLemmatizer  # Stemming and Lemmatization\n",
    "from nltk.corpus import stopwords  # Stopwords for text preprocessing\n",
    "from nltk.tokenize import word_tokenize, sent_tokenize  # Tokenization methods\n",
    "from nltk.stem.porter import PorterStemmer  # Porter Stemmer for word stemming\n",
    "import string  # String manipulation\n",
    "\n",
    "# Suppressing warnings to avoid clutter in output\n",
    "import warnings\n",
    "warnings.simplefilter(action='ignore', category=DeprecationWarning)\n",
    "warnings.simplefilter(action='ignore', category=FutureWarning)\n"
   ]
  },
  {
   "cell_type": "markdown",
   "id": "f5da465b",
   "metadata": {},
   "source": [
    "## Loading & understanding our data"
   ]
  },
  {
   "cell_type": "code",
   "execution_count": 2,
   "id": "383038a7",
   "metadata": {
    "scrolled": true
   },
   "outputs": [
    {
     "data": {
      "text/html": [
       "<div>\n",
       "<style scoped>\n",
       "    .dataframe tbody tr th:only-of-type {\n",
       "        vertical-align: middle;\n",
       "    }\n",
       "\n",
       "    .dataframe tbody tr th {\n",
       "        vertical-align: top;\n",
       "    }\n",
       "\n",
       "    .dataframe thead th {\n",
       "        text-align: right;\n",
       "    }\n",
       "</style>\n",
       "<table border=\"1\" class=\"dataframe\">\n",
       "  <thead>\n",
       "    <tr style=\"text-align: right;\">\n",
       "      <th></th>\n",
       "      <th>email</th>\n",
       "      <th>label</th>\n",
       "      <th>Subject</th>\n",
       "      <th>content</th>\n",
       "    </tr>\n",
       "  </thead>\n",
       "  <tbody>\n",
       "    <tr>\n",
       "      <th>0</th>\n",
       "      <td>b'From exmh-workers-admin@redhat.com  Thu Aug ...</td>\n",
       "      <td>0.0</td>\n",
       "      <td>new sequenc window</td>\n",
       "      <td>date wed number aug number number number chri ...</td>\n",
       "    </tr>\n",
       "    <tr>\n",
       "      <th>1</th>\n",
       "      <td>b'Return-Path: &lt;Online#3.19578.34-UgGTgZFN19NA...</td>\n",
       "      <td>0.0</td>\n",
       "      <td>cnet newscom cabl compani crack wifi</td>\n",
       "      <td>htmlhead titlec compani crack nametopa logo ad...</td>\n",
       "    </tr>\n",
       "    <tr>\n",
       "      <th>2</th>\n",
       "      <td>b'Return-Path: &lt;Online#3.19584.83-p1SYlJ1blFvQ...</td>\n",
       "      <td>0.0</td>\n",
       "      <td>save extra number ipaq number pda cnet shopper</td>\n",
       "      <td>htmlhead newslett hreftopa header tabl widthnu...</td>\n",
       "    </tr>\n",
       "    <tr>\n",
       "      <th>3</th>\n",
       "      <td>b'From Steve_Burt@cursor-system.com  Thu Aug 2...</td>\n",
       "      <td>0.0</td>\n",
       "      <td>zzzzteana alexand</td>\n",
       "      <td>martin greek sculptor behind plan judg limesto...</td>\n",
       "    </tr>\n",
       "    <tr>\n",
       "      <th>4</th>\n",
       "      <td>b'Return-Path: &lt;Online#3.19586.b5-9w0blztbvHPd...</td>\n",
       "      <td>0.0</td>\n",
       "      <td>week deck texedit plu boom</td>\n",
       "      <td>cnet download dispatchmac editionjuli number n...</td>\n",
       "    </tr>\n",
       "  </tbody>\n",
       "</table>\n",
       "</div>"
      ],
      "text/plain": [
       "                                               email  label  \\\n",
       "0  b'From exmh-workers-admin@redhat.com  Thu Aug ...    0.0   \n",
       "1  b'Return-Path: <Online#3.19578.34-UgGTgZFN19NA...    0.0   \n",
       "2  b'Return-Path: <Online#3.19584.83-p1SYlJ1blFvQ...    0.0   \n",
       "3  b'From Steve_Burt@cursor-system.com  Thu Aug 2...    0.0   \n",
       "4  b'Return-Path: <Online#3.19586.b5-9w0blztbvHPd...    0.0   \n",
       "\n",
       "                                          Subject  \\\n",
       "0                              new sequenc window   \n",
       "1            cnet newscom cabl compani crack wifi   \n",
       "2  save extra number ipaq number pda cnet shopper   \n",
       "3                               zzzzteana alexand   \n",
       "4                      week deck texedit plu boom   \n",
       "\n",
       "                                             content  \n",
       "0  date wed number aug number number number chri ...  \n",
       "1  htmlhead titlec compani crack nametopa logo ad...  \n",
       "2  htmlhead newslett hreftopa header tabl widthnu...  \n",
       "3  martin greek sculptor behind plan judg limesto...  \n",
       "4  cnet download dispatchmac editionjuli number n...  "
      ]
     },
     "execution_count": 2,
     "metadata": {},
     "output_type": "execute_result"
    }
   ],
   "source": [
    "df=pd.read_csv(r\"C:\\Users\\aarza\\Desktop\\Dataset\\Kaggle\\Spam_Ham_data.csv\")\n",
    "\n",
    "# With \"pd.set_option('display.max_columns', None)\" we see all the columns of the dataset.\n",
    "pd.set_option('display.max_columns', None)\n",
    "df.head()\n"
   ]
  },
  {
   "cell_type": "code",
   "execution_count": 3,
   "id": "5a0ce58a",
   "metadata": {},
   "outputs": [
    {
     "data": {
      "text/html": [
       "<div>\n",
       "<style scoped>\n",
       "    .dataframe tbody tr th:only-of-type {\n",
       "        vertical-align: middle;\n",
       "    }\n",
       "\n",
       "    .dataframe tbody tr th {\n",
       "        vertical-align: top;\n",
       "    }\n",
       "\n",
       "    .dataframe thead th {\n",
       "        text-align: right;\n",
       "    }\n",
       "</style>\n",
       "<table border=\"1\" class=\"dataframe\">\n",
       "  <thead>\n",
       "    <tr style=\"text-align: right;\">\n",
       "      <th></th>\n",
       "      <th>label</th>\n",
       "      <th>Subject</th>\n",
       "      <th>content</th>\n",
       "    </tr>\n",
       "  </thead>\n",
       "  <tbody>\n",
       "    <tr>\n",
       "      <th>0</th>\n",
       "      <td>0.0</td>\n",
       "      <td>new sequenc window</td>\n",
       "      <td>date wed number aug number number number chri ...</td>\n",
       "    </tr>\n",
       "    <tr>\n",
       "      <th>1</th>\n",
       "      <td>0.0</td>\n",
       "      <td>cnet newscom cabl compani crack wifi</td>\n",
       "      <td>htmlhead titlec compani crack nametopa logo ad...</td>\n",
       "    </tr>\n",
       "    <tr>\n",
       "      <th>2</th>\n",
       "      <td>0.0</td>\n",
       "      <td>save extra number ipaq number pda cnet shopper</td>\n",
       "      <td>htmlhead newslett hreftopa header tabl widthnu...</td>\n",
       "    </tr>\n",
       "    <tr>\n",
       "      <th>3</th>\n",
       "      <td>0.0</td>\n",
       "      <td>zzzzteana alexand</td>\n",
       "      <td>martin greek sculptor behind plan judg limesto...</td>\n",
       "    </tr>\n",
       "    <tr>\n",
       "      <th>4</th>\n",
       "      <td>0.0</td>\n",
       "      <td>week deck texedit plu boom</td>\n",
       "      <td>cnet download dispatchmac editionjuli number n...</td>\n",
       "    </tr>\n",
       "    <tr>\n",
       "      <th>...</th>\n",
       "      <td>...</td>\n",
       "      <td>...</td>\n",
       "      <td>...</td>\n",
       "    </tr>\n",
       "    <tr>\n",
       "      <th>3058</th>\n",
       "      <td>1.0</td>\n",
       "      <td>fwddirect market work number</td>\n",
       "      <td>stumbl greatest way market centuri undoubtedli...</td>\n",
       "    </tr>\n",
       "    <tr>\n",
       "      <th>3059</th>\n",
       "      <td>1.0</td>\n",
       "      <td>see compani sale sky rocket number</td>\n",
       "      <td>stumbl greatest way market centuri undoubtedli...</td>\n",
       "    </tr>\n",
       "    <tr>\n",
       "      <th>3060</th>\n",
       "      <td>1.0</td>\n",
       "      <td>number hour watch emmerci joke</td>\n",
       "      <td>frontpag numbermeta nameprogid vlinknumb align...</td>\n",
       "    </tr>\n",
       "    <tr>\n",
       "      <th>3061</th>\n",
       "      <td>1.0</td>\n",
       "      <td>make fortun ebay number</td>\n",
       "      <td>htmlbodi tr td p number rate work home busi bf...</td>\n",
       "    </tr>\n",
       "    <tr>\n",
       "      <th>3062</th>\n",
       "      <td>1.0</td>\n",
       "      <td>faeri</td>\n",
       "      <td>uncommon exot pleasur marvel sweet treat pleas...</td>\n",
       "    </tr>\n",
       "  </tbody>\n",
       "</table>\n",
       "<p>3063 rows × 3 columns</p>\n",
       "</div>"
      ],
      "text/plain": [
       "      label                                         Subject  \\\n",
       "0       0.0                              new sequenc window   \n",
       "1       0.0            cnet newscom cabl compani crack wifi   \n",
       "2       0.0  save extra number ipaq number pda cnet shopper   \n",
       "3       0.0                               zzzzteana alexand   \n",
       "4       0.0                      week deck texedit plu boom   \n",
       "...     ...                                             ...   \n",
       "3058    1.0                    fwddirect market work number   \n",
       "3059    1.0              see compani sale sky rocket number   \n",
       "3060    1.0                  number hour watch emmerci joke   \n",
       "3061    1.0                         make fortun ebay number   \n",
       "3062    1.0                                           faeri   \n",
       "\n",
       "                                                content  \n",
       "0     date wed number aug number number number chri ...  \n",
       "1     htmlhead titlec compani crack nametopa logo ad...  \n",
       "2     htmlhead newslett hreftopa header tabl widthnu...  \n",
       "3     martin greek sculptor behind plan judg limesto...  \n",
       "4     cnet download dispatchmac editionjuli number n...  \n",
       "...                                                 ...  \n",
       "3058  stumbl greatest way market centuri undoubtedli...  \n",
       "3059  stumbl greatest way market centuri undoubtedli...  \n",
       "3060  frontpag numbermeta nameprogid vlinknumb align...  \n",
       "3061  htmlbodi tr td p number rate work home busi bf...  \n",
       "3062  uncommon exot pleasur marvel sweet treat pleas...  \n",
       "\n",
       "[3063 rows x 3 columns]"
      ]
     },
     "execution_count": 3,
     "metadata": {},
     "output_type": "execute_result"
    }
   ],
   "source": [
    "df=df.drop('email',axis=1)\n",
    "df"
   ]
  },
  {
   "cell_type": "code",
   "execution_count": 4,
   "id": "e07d9901",
   "metadata": {
    "scrolled": true
   },
   "outputs": [
    {
     "name": "stdout",
     "output_type": "stream",
     "text": [
      "<class 'pandas.core.frame.DataFrame'>\n",
      "RangeIndex: 3063 entries, 0 to 3062\n",
      "Data columns (total 3 columns):\n",
      " #   Column   Non-Null Count  Dtype  \n",
      "---  ------   --------------  -----  \n",
      " 0   label    3063 non-null   float64\n",
      " 1   Subject  3008 non-null   object \n",
      " 2   content  3059 non-null   object \n",
      "dtypes: float64(1), object(2)\n",
      "memory usage: 71.9+ KB\n"
     ]
    }
   ],
   "source": [
    "df.info()"
   ]
  },
  {
   "cell_type": "code",
   "execution_count": 5,
   "id": "d3a3180f",
   "metadata": {
    "scrolled": false
   },
   "outputs": [
    {
     "data": {
      "text/plain": [
       "label       0\n",
       "Subject    55\n",
       "content     4\n",
       "dtype: int64"
      ]
     },
     "execution_count": 5,
     "metadata": {},
     "output_type": "execute_result"
    }
   ],
   "source": [
    "df.isnull().sum()"
   ]
  },
  {
   "cell_type": "code",
   "execution_count": 6,
   "id": "be269a55",
   "metadata": {
    "scrolled": true
   },
   "outputs": [],
   "source": [
    "# Removing missing value present in content\n",
    "df = df.dropna(subset=['content'], axis=0)"
   ]
  },
  {
   "cell_type": "code",
   "execution_count": 7,
   "id": "e55840e1",
   "metadata": {},
   "outputs": [],
   "source": [
    "# fillna in Subject variable by space\n",
    "df=df.fillna('')"
   ]
  },
  {
   "cell_type": "code",
   "execution_count": 8,
   "id": "c8a23089",
   "metadata": {},
   "outputs": [],
   "source": [
    "#adding both variable into text , help us to examine both at once\n",
    "df[\"text\"]=df[\"Subject\"]+' '+df[\"content\"]"
   ]
  },
  {
   "cell_type": "markdown",
   "id": "4a27367d",
   "metadata": {},
   "source": [
    "All the variables have the correct data type and the presence of some missing data is confirmed "
   ]
  },
  {
   "cell_type": "code",
   "execution_count": 9,
   "id": "a5b0d766",
   "metadata": {},
   "outputs": [],
   "source": [
    "# Dropping the missing data from the dataset:\n",
    "df=df.drop(['Subject','content'],axis=1)"
   ]
  },
  {
   "cell_type": "code",
   "execution_count": 10,
   "id": "53a769d1",
   "metadata": {},
   "outputs": [
    {
     "data": {
      "text/plain": [
       "label    0\n",
       "text     0\n",
       "dtype: int64"
      ]
     },
     "execution_count": 10,
     "metadata": {},
     "output_type": "execute_result"
    }
   ],
   "source": [
    "#cheching if there is missing value\n",
    "df.isnull().sum()"
   ]
  },
  {
   "cell_type": "code",
   "execution_count": 11,
   "id": "b971c1e7",
   "metadata": {},
   "outputs": [
    {
     "data": {
      "text/plain": [
       "\"new sequenc window date wed number aug number number number chri garrigu messageid can't reproduc errorfor repeat like everi time without failthi debug log pick happen number pickit exec pick inbox list lbrace lbrace subject ftp rbrace rbrace number sequenc exec pick inbox list lbrace lbrace subject ftp rbrace rbrace number sequenc number hitnumb mark number hitsnumb tkerror syntax error express int note run pick command hand delta pick inbox list lbrace lbrace subject ftp rbrace rbrace number sequenc hitthat' number hit come obvious version nmh i'mus delta pick versionpick nmhnumber compil sun mar number number ict numberand relev part mhprofil delta mhparam pickseq sel listsinc pick command work sequenc actual theon that' explicit command line search popup theon come mhprofil get still use version code form day ago haven'tbeen abl reach cv repositori today local rout issu mail\""
      ]
     },
     "execution_count": 11,
     "metadata": {},
     "output_type": "execute_result"
    }
   ],
   "source": [
    "# Let's see how looks the first element of the new column \"completed_text\"\n",
    "df['text'][0]"
   ]
  },
  {
   "cell_type": "markdown",
   "id": "c694b6b0",
   "metadata": {},
   "source": [
    "## Text Cleaning"
   ]
  },
  {
   "cell_type": "markdown",
   "id": "98f6d8d4",
   "metadata": {},
   "source": [
    "As in the numerical databases, cleaning data is a crucial part of the text analysis, and the process has 4 steps:\n",
    "    <ol>\n",
    "  <li>Remove all Stopwords</li>\n",
    "  <li>Lemanize your words</li>\n",
    "  <li>Stem your words</li>\n",
    "  <li>Tokenization</li>\n",
    "</ol>"
   ]
  },
  {
   "cell_type": "code",
   "execution_count": 12,
   "id": "e8d533d7",
   "metadata": {},
   "outputs": [],
   "source": [
    "# Getting stopwords for English:\n",
    "stop_words = set(stopwords.words('english')) # Create a set of English stop words for text preprocessing"
   ]
  },
  {
   "cell_type": "code",
   "execution_count": 13,
   "id": "9f587669",
   "metadata": {},
   "outputs": [],
   "source": [
    "# Define punctuations to exclude and lemmatizer:\n",
    "exclude = set(string.punctuation)# Create a set of common punctuation marks and symbols for text preprocessing"
   ]
  },
  {
   "cell_type": "code",
   "execution_count": 14,
   "id": "b79a60f3",
   "metadata": {},
   "outputs": [],
   "source": [
    "\n",
    "def clean(text, stop_words):\n",
    "    # Define the stop words set using NLTK's stopwords for English.\n",
    "    stop_words = set(stopwords.words('english'))\n",
    "    exclude = set(string.punctuation) \n",
    "    # Initialize the WordNet lemmatizer.\n",
    "    lemma = WordNetLemmatizer()\n",
    "    # Initialize the Porter Stemmer.\n",
    "    porter = PorterStemmer()\n",
    "    # Remove trailing whitespaces from the text.\n",
    "    text = text.rstrip()\n",
    "    # Replace any non-alphabet characters with a space in the text.\n",
    "    text = re.sub(r'[^a-zA-Z]', ' ', text)\n",
    "    # Split the text into words, convert to lowercase, and filter based on conditions.\n",
    "    # Conditions:\n",
    "    # 1. The word is not in the stop words list.\n",
    "    # 2. The word is not a digit.\n",
    "    # 3. The word has a length greater than 3.\n",
    "    stop_free = \" \".join([i for i in text.lower().split() if ((i not in stop_words) and (not i.isdigit()) and len(i) > 3)])\n",
    "    # Remove punctuation from the cleaned text.\n",
    "    punc_free = ''.join(ch for ch in stop_free if ch not in exclude)\n",
    "    # Lemmatize the words in the cleaned text.\n",
    "    normalized = \" \".join(lemma.lemmatize(word) for word in punc_free.split())\n",
    "    # Return the cleaned and processed text.\n",
    "    return normalized"
   ]
  },
  {
   "cell_type": "code",
   "execution_count": 15,
   "id": "32ca4a12",
   "metadata": {},
   "outputs": [],
   "source": [
    "# Clean the emails in sample_df\n",
    "text_clean=[]\n",
    "for text in df['text']:\n",
    "    text_clean.append(clean(text, stop_words).split())    "
   ]
  },
  {
   "cell_type": "code",
   "execution_count": 16,
   "id": "35a657d7",
   "metadata": {},
   "outputs": [],
   "source": [
    "# Apply the function to the dataframe:\n",
    "df['clean_text'] = text_clean"
   ]
  },
  {
   "cell_type": "code",
   "execution_count": 17,
   "id": "bafbef70",
   "metadata": {},
   "outputs": [
    {
     "data": {
      "text/plain": [
       "\"new sequenc window date wed number aug number number number chri garrigu messageid can't reproduc errorfor repeat like everi time without failthi debug log pick happen number pickit exec pick inbox list lbrace lbrace subject ftp rbrace rbrace number sequenc exec pick inbox list lbrace lbrace subject ftp rbrace rbrace number sequenc number hitnumb mark number hitsnumb tkerror syntax error express int note run pick command hand delta pick inbox list lbrace lbrace subject ftp rbrace rbrace number sequenc hitthat' number hit come obvious version nmh i'mus delta pick versionpick nmhnumber compil sun mar number number ict numberand relev part mhprofil delta mhparam pickseq sel listsinc pick command work sequenc actual theon that' explicit command line search popup theon come mhprofil get still use version code form day ago haven'tbeen abl reach cv repositori today local rout issu mail\""
      ]
     },
     "execution_count": 17,
     "metadata": {},
     "output_type": "execute_result"
    }
   ],
   "source": [
    "# Now we can compare the original column \"completed_text\" vs the column \"clean_text\" using the row 41100 from sample_df\n",
    "# Completed_text:\n",
    "df['text'][0]"
   ]
  },
  {
   "cell_type": "code",
   "execution_count": 18,
   "id": "64c4bb61",
   "metadata": {},
   "outputs": [
    {
     "name": "stdout",
     "output_type": "stream",
     "text": [
      "['sequenc', 'window', 'date', 'number', 'number', 'number', 'number', 'chri', 'garrigu', 'messageid', 'reproduc', 'errorfor', 'repeat', 'like', 'everi', 'time', 'without', 'failthi', 'debug', 'pick', 'happen', 'number', 'pickit', 'exec', 'pick', 'inbox', 'list', 'lbrace', 'lbrace', 'subject', 'rbrace', 'rbrace', 'number', 'sequenc', 'exec', 'pick', 'inbox', 'list', 'lbrace', 'lbrace', 'subject', 'rbrace', 'rbrace', 'number', 'sequenc', 'number', 'hitnumb', 'mark', 'number', 'hitsnumb', 'tkerror', 'syntax', 'error', 'express', 'note', 'pick', 'command', 'hand', 'delta', 'pick', 'inbox', 'list', 'lbrace', 'lbrace', 'subject', 'rbrace', 'rbrace', 'number', 'sequenc', 'hitthat', 'number', 'come', 'obvious', 'version', 'delta', 'pick', 'versionpick', 'nmhnumber', 'compil', 'number', 'number', 'numberand', 'relev', 'part', 'mhprofil', 'delta', 'mhparam', 'pickseq', 'listsinc', 'pick', 'command', 'work', 'sequenc', 'actual', 'theon', 'explicit', 'command', 'line', 'search', 'popup', 'theon', 'come', 'mhprofil', 'still', 'version', 'code', 'form', 'tbeen', 'reach', 'repositori', 'today', 'local', 'rout', 'issu', 'mail']\n"
     ]
    }
   ],
   "source": [
    "# clean_text:\n",
    "print(df['clean_text'][0])"
   ]
  },
  {
   "cell_type": "code",
   "execution_count": 19,
   "id": "8f0d6f2d",
   "metadata": {},
   "outputs": [],
   "source": [
    "# Creating a new column named clean_sent where we join the words into a string.\n",
    "df['clean_sent'] = df['clean_text'].apply(lambda x: \" \".join(x))"
   ]
  },
  {
   "cell_type": "code",
   "execution_count": 20,
   "id": "f6eb09d2",
   "metadata": {},
   "outputs": [
    {
     "data": {
      "text/plain": [
       "'sequenc window date number number number number chri garrigu messageid reproduc errorfor repeat like everi time without failthi debug pick happen number pickit exec pick inbox list lbrace lbrace subject rbrace rbrace number sequenc exec pick inbox list lbrace lbrace subject rbrace rbrace number sequenc number hitnumb mark number hitsnumb tkerror syntax error express note pick command hand delta pick inbox list lbrace lbrace subject rbrace rbrace number sequenc hitthat number come obvious version delta pick versionpick nmhnumber compil number number numberand relev part mhprofil delta mhparam pickseq listsinc pick command work sequenc actual theon explicit command line search popup theon come mhprofil still version code form tbeen reach repositori today local rout issu mail'"
      ]
     },
     "execution_count": 20,
     "metadata": {},
     "output_type": "execute_result"
    }
   ],
   "source": [
    "# Let's see how the text looks like after the cleaning process.\n",
    "df['clean_sent'][0]"
   ]
  },
  {
   "cell_type": "code",
   "execution_count": 21,
   "id": "9f50cf0a",
   "metadata": {
    "scrolled": true
   },
   "outputs": [
    {
     "data": {
      "text/html": [
       "<div>\n",
       "<style scoped>\n",
       "    .dataframe tbody tr th:only-of-type {\n",
       "        vertical-align: middle;\n",
       "    }\n",
       "\n",
       "    .dataframe tbody tr th {\n",
       "        vertical-align: top;\n",
       "    }\n",
       "\n",
       "    .dataframe thead th {\n",
       "        text-align: right;\n",
       "    }\n",
       "</style>\n",
       "<table border=\"1\" class=\"dataframe\">\n",
       "  <thead>\n",
       "    <tr style=\"text-align: right;\">\n",
       "      <th></th>\n",
       "      <th>label</th>\n",
       "      <th>text</th>\n",
       "      <th>clean_text</th>\n",
       "      <th>clean_sent</th>\n",
       "    </tr>\n",
       "  </thead>\n",
       "  <tbody>\n",
       "    <tr>\n",
       "      <th>0</th>\n",
       "      <td>0.0</td>\n",
       "      <td>new sequenc window date wed number aug number ...</td>\n",
       "      <td>[sequenc, window, date, number, number, number...</td>\n",
       "      <td>sequenc window date number number number numbe...</td>\n",
       "    </tr>\n",
       "    <tr>\n",
       "      <th>1</th>\n",
       "      <td>0.0</td>\n",
       "      <td>cnet newscom cabl compani crack wifi htmlhead ...</td>\n",
       "      <td>[cnet, newscom, cabl, compani, crack, wifi, ht...</td>\n",
       "      <td>cnet newscom cabl compani crack wifi htmlhead ...</td>\n",
       "    </tr>\n",
       "    <tr>\n",
       "      <th>2</th>\n",
       "      <td>0.0</td>\n",
       "      <td>save extra number ipaq number pda cnet shopper...</td>\n",
       "      <td>[save, extra, number, ipaq, number, cnet, shop...</td>\n",
       "      <td>save extra number ipaq number cnet shopper htm...</td>\n",
       "    </tr>\n",
       "    <tr>\n",
       "      <th>3</th>\n",
       "      <td>0.0</td>\n",
       "      <td>zzzzteana alexand martin greek sculptor behind...</td>\n",
       "      <td>[zzzzteana, alexand, martin, greek, sculptor, ...</td>\n",
       "      <td>zzzzteana alexand martin greek sculptor behind...</td>\n",
       "    </tr>\n",
       "    <tr>\n",
       "      <th>4</th>\n",
       "      <td>0.0</td>\n",
       "      <td>week deck texedit plu boom cnet download dispa...</td>\n",
       "      <td>[week, deck, texedit, boom, cnet, download, di...</td>\n",
       "      <td>week deck texedit boom cnet download dispatchm...</td>\n",
       "    </tr>\n",
       "    <tr>\n",
       "      <th>...</th>\n",
       "      <td>...</td>\n",
       "      <td>...</td>\n",
       "      <td>...</td>\n",
       "      <td>...</td>\n",
       "    </tr>\n",
       "    <tr>\n",
       "      <th>3058</th>\n",
       "      <td>1.0</td>\n",
       "      <td>fwddirect market work number stumbl greatest w...</td>\n",
       "      <td>[fwddirect, market, work, number, stumbl, grea...</td>\n",
       "      <td>fwddirect market work number stumbl greatest m...</td>\n",
       "    </tr>\n",
       "    <tr>\n",
       "      <th>3059</th>\n",
       "      <td>1.0</td>\n",
       "      <td>see compani sale sky rocket number stumbl grea...</td>\n",
       "      <td>[compani, sale, rocket, number, stumbl, greate...</td>\n",
       "      <td>compani sale rocket number stumbl greatest mar...</td>\n",
       "    </tr>\n",
       "    <tr>\n",
       "      <th>3060</th>\n",
       "      <td>1.0</td>\n",
       "      <td>number hour watch emmerci joke frontpag number...</td>\n",
       "      <td>[number, hour, watch, emmerci, joke, frontpag,...</td>\n",
       "      <td>number hour watch emmerci joke frontpag number...</td>\n",
       "    </tr>\n",
       "    <tr>\n",
       "      <th>3061</th>\n",
       "      <td>1.0</td>\n",
       "      <td>make fortun ebay number htmlbodi tr td p numbe...</td>\n",
       "      <td>[make, fortun, ebay, number, htmlbodi, number,...</td>\n",
       "      <td>make fortun ebay number htmlbodi number rate w...</td>\n",
       "    </tr>\n",
       "    <tr>\n",
       "      <th>3062</th>\n",
       "      <td>1.0</td>\n",
       "      <td>faeri uncommon exot pleasur marvel sweet treat...</td>\n",
       "      <td>[faeri, uncommon, exot, pleasur, marvel, sweet...</td>\n",
       "      <td>faeri uncommon exot pleasur marvel sweet treat...</td>\n",
       "    </tr>\n",
       "  </tbody>\n",
       "</table>\n",
       "<p>3059 rows × 4 columns</p>\n",
       "</div>"
      ],
      "text/plain": [
       "      label                                               text  \\\n",
       "0       0.0  new sequenc window date wed number aug number ...   \n",
       "1       0.0  cnet newscom cabl compani crack wifi htmlhead ...   \n",
       "2       0.0  save extra number ipaq number pda cnet shopper...   \n",
       "3       0.0  zzzzteana alexand martin greek sculptor behind...   \n",
       "4       0.0  week deck texedit plu boom cnet download dispa...   \n",
       "...     ...                                                ...   \n",
       "3058    1.0  fwddirect market work number stumbl greatest w...   \n",
       "3059    1.0  see compani sale sky rocket number stumbl grea...   \n",
       "3060    1.0  number hour watch emmerci joke frontpag number...   \n",
       "3061    1.0  make fortun ebay number htmlbodi tr td p numbe...   \n",
       "3062    1.0  faeri uncommon exot pleasur marvel sweet treat...   \n",
       "\n",
       "                                             clean_text  \\\n",
       "0     [sequenc, window, date, number, number, number...   \n",
       "1     [cnet, newscom, cabl, compani, crack, wifi, ht...   \n",
       "2     [save, extra, number, ipaq, number, cnet, shop...   \n",
       "3     [zzzzteana, alexand, martin, greek, sculptor, ...   \n",
       "4     [week, deck, texedit, boom, cnet, download, di...   \n",
       "...                                                 ...   \n",
       "3058  [fwddirect, market, work, number, stumbl, grea...   \n",
       "3059  [compani, sale, rocket, number, stumbl, greate...   \n",
       "3060  [number, hour, watch, emmerci, joke, frontpag,...   \n",
       "3061  [make, fortun, ebay, number, htmlbodi, number,...   \n",
       "3062  [faeri, uncommon, exot, pleasur, marvel, sweet...   \n",
       "\n",
       "                                             clean_sent  \n",
       "0     sequenc window date number number number numbe...  \n",
       "1     cnet newscom cabl compani crack wifi htmlhead ...  \n",
       "2     save extra number ipaq number cnet shopper htm...  \n",
       "3     zzzzteana alexand martin greek sculptor behind...  \n",
       "4     week deck texedit boom cnet download dispatchm...  \n",
       "...                                                 ...  \n",
       "3058  fwddirect market work number stumbl greatest m...  \n",
       "3059  compani sale rocket number stumbl greatest mar...  \n",
       "3060  number hour watch emmerci joke frontpag number...  \n",
       "3061  make fortun ebay number htmlbodi number rate w...  \n",
       "3062  faeri uncommon exot pleasur marvel sweet treat...  \n",
       "\n",
       "[3059 rows x 4 columns]"
      ]
     },
     "execution_count": 21,
     "metadata": {},
     "output_type": "execute_result"
    }
   ],
   "source": [
    "df"
   ]
  },
  {
   "cell_type": "code",
   "execution_count": 22,
   "id": "3053b66d",
   "metadata": {
    "scrolled": false
   },
   "outputs": [
    {
     "data": {
      "image/png": "[encoded data removed]",
      "text/plain": [
       "<Figure size 640x480 with 1 Axes>"
      ]
     },
     "metadata": {},
     "output_type": "display_data"
    }
   ],
   "source": [
    "sns.set(style=\"whitegrid\")\n",
    "sns.set_palette(\"pastel\")  # You can change the color palette here\n",
    "# Create the bar plot\n",
    "sns.countplot(y=\"label\", data=df)\n",
    "# Customize axis labels\n",
    "plt.xlabel(\"label\", fontsize=12)  # Change the x-axis label and its font size\n",
    "plt.ylabel(\"Counts\", fontsize=12)  # Change the y-axis label and its font size\n",
    "# Add a title\n",
    "plt.title(\"Bar Graph for a Target Variable\", fontsize=14)\n",
    "# Show the plot\n",
    "plt.show()"
   ]
  },
  {
   "cell_type": "code",
   "execution_count": 23,
   "id": "f575c8a9",
   "metadata": {},
   "outputs": [],
   "source": [
    "#dividing dataframe into target and feature\n",
    "x = df[\"clean_sent\"]\n",
    "y = df[\"label\"]"
   ]
  },
  {
   "cell_type": "code",
   "execution_count": 24,
   "id": "8b70afcd",
   "metadata": {},
   "outputs": [],
   "source": [
    "# Import the TfidfVectorizer class from the sklearn.feature_extraction.text module\n",
    "from sklearn.feature_extraction.text import TfidfVectorizer\n",
    "# Create a TfidfVectorizer object with a limit on the maximum number of features (words or terms) to consider,\n",
    "tfidf_vectorizer = TfidfVectorizer(max_features=5000)\n",
    "# Use the fit_transform method of the TfidfVectorizer to compute the TF-IDF values for your input data 'x'.\n",
    "x_tfidf = tfidf_vectorizer.fit_transform(x)"
   ]
  },
  {
   "cell_type": "code",
   "execution_count": 25,
   "id": "980d2d6b",
   "metadata": {},
   "outputs": [],
   "source": [
    "from sklearn.model_selection import train_test_split\n",
    "x_train_nb, x_test_nb, y_train_nb, y_test_nb = train_test_split(x_tfidf, y, test_size=0.2, random_state=42)"
   ]
  },
  {
   "cell_type": "code",
   "execution_count": 26,
   "id": "4754ba88",
   "metadata": {},
   "outputs": [
    {
     "name": "stdout",
     "output_type": "stream",
     "text": [
      "Class distribution before oversampling: Counter({0.0: 2658, 1.0: 401})\n",
      "Class distribution after oversampling: Counter({0.0: 2137, 1.0: 2137})\n"
     ]
    }
   ],
   "source": [
    "from imblearn.over_sampling import SMOTE\n",
    "from collections import Counter\n",
    "\n",
    "# Assuming you have your feature matrix X and target variable y\n",
    "# x: Your feature matrix\n",
    "# y: Your target variable\n",
    "\n",
    "# Count the class distribution before oversampling\n",
    "print(\"Class distribution before oversampling:\", Counter(y))\n",
    "\n",
    "# Initialize the SMOTE resampler\n",
    "smote = SMOTE(sampling_strategy='auto', random_state=42)\n",
    "\n",
    "# Perform oversampling\n",
    "x_train_nb, y_train_nb = smote.fit_resample(x_train_nb, y_train_nb)\n",
    "\n",
    "# Count the class distribution after oversampling\n",
    "print(\"Class distribution after oversampling:\", Counter(y_train_nb))\n"
   ]
  },
  {
   "cell_type": "code",
   "execution_count": 27,
   "id": "abaf75d5",
   "metadata": {},
   "outputs": [],
   "source": [
    "results_df = pd.DataFrame(columns=[\n",
    "    'Algorithm Name',\n",
    "    'Accuracy',\n",
    "    'Precision',\n",
    "    'Recall',\n",
    "    'F1 Score',\n",
    "    'Confusion Matrix'\n",
    "])"
   ]
  },
  {
   "cell_type": "code",
   "execution_count": 28,
   "id": "67386f70",
   "metadata": {},
   "outputs": [],
   "source": [
    "from sklearn.naive_bayes import MultinomialNB\n",
    "naive_bayes = MultinomialNB()\n",
    "naive_bayes.fit(x_train_nb, y_train_nb)\n",
    "y_pred_nb = naive_bayes.predict(x_test_nb)"
   ]
  },
  {
   "cell_type": "code",
   "execution_count": 29,
   "id": "0530fc5c",
   "metadata": {
    "scrolled": true
   },
   "outputs": [
    {
     "name": "stdout",
     "output_type": "stream",
     "text": [
      "Multinomial Naive Bayes:\n",
      "Accuracy: 0.9313725490196079\n",
      "              precision    recall  f1-score   support\n",
      "\n",
      "         0.0       0.99      0.93      0.96       521\n",
      "         1.0       0.70      0.96      0.81        91\n",
      "\n",
      "    accuracy                           0.93       612\n",
      "   macro avg       0.84      0.94      0.88       612\n",
      "weighted avg       0.95      0.93      0.94       612\n",
      "\n"
     ]
    }
   ],
   "source": [
    "from sklearn.metrics import accuracy_score,classification_report\n",
    "print(\"Multinomial Naive Bayes:\")\n",
    "print(\"Accuracy:\", accuracy_score(y_test_nb, y_pred_nb))\n",
    "print(classification_report(y_test_nb, y_pred_nb))"
   ]
  },
  {
   "cell_type": "code",
   "execution_count": 30,
   "id": "b887fee1",
   "metadata": {},
   "outputs": [
    {
     "name": "stdout",
     "output_type": "stream",
     "text": [
      "Accuracy: 0.9313725490196079\n",
      "Precision: 0.696\n",
      "Recall: 0.9560439560439561\n",
      "F1 Score: 0.8055555555555556\n",
      "Confusion Matrix:\n",
      "[[483  38]\n",
      " [  4  87]]\n"
     ]
    }
   ],
   "source": [
    "from sklearn.metrics import accuracy_score, precision_score, recall_score, f1_score, confusion_matrix\n",
    "\n",
    "# Define classification metrics\n",
    "algorithm_name = 'Multinomial Naive Bayes'\n",
    "accuracy = accuracy_score(y_test_nb, y_pred_nb)\n",
    "precision = precision_score(y_test_nb, y_pred_nb)\n",
    "recall = recall_score(y_test_nb, y_pred_nb)\n",
    "f1 = f1_score(y_test_nb, y_pred_nb)\n",
    "conf_matrix = confusion_matrix(y_test_nb, y_pred_nb)\n",
    "\n",
    "# Print the classification metrics\n",
    "print(\"Accuracy:\", accuracy)\n",
    "print(\"Precision:\", precision)\n",
    "print(\"Recall:\", recall)\n",
    "print(\"F1 Score:\", f1)\n",
    "print(\"Confusion Matrix:\")\n",
    "print(conf_matrix)\n",
    "\n",
    "# Append results to a DataFrame (assuming you have initialized results_df as in previous examples)\n",
    "results_df = results_df.append({\n",
    "    'Algorithm Name': algorithm_name,\n",
    "    'Accuracy': accuracy,\n",
    "    'Precision': precision,\n",
    "    'Recall': recall,\n",
    "    'F1 Score': f1,\n",
    "    'Confusion Matrix': conf_matrix\n",
    "}, ignore_index=True)\n"
   ]
  },
  {
   "cell_type": "code",
   "execution_count": 31,
   "id": "8f4d4772",
   "metadata": {},
   "outputs": [],
   "source": [
    "max_words = 10000         # Maximum number of unique words in the vocabulary\n",
    "max_sequence_length = 200 # Maximum length of input sequences (number of words in each sequence)\n",
    "embedding_dim = 100      # Dimensionality of word embeddings"
   ]
  },
  {
   "cell_type": "code",
   "execution_count": 32,
   "id": "7c36db67",
   "metadata": {},
   "outputs": [],
   "source": [
    "import tensorflow as tf  # Import TensorFlow\n",
    "from tensorflow.keras.models import Sequential  # Import Sequential model\n",
    "from tensorflow.keras.layers import Embedding, LSTM, Dense  # Import layers\n",
    "from tensorflow.keras.preprocessing.text import Tokenizer  # Import text Tokenizer\n",
    "from tensorflow.keras.preprocessing.sequence import pad_sequences  # Import sequence padding\n",
    "from sklearn.preprocessing import LabelEncoder  # Import LabelEncoder from scikit-learn\n",
    "\n",
    "tokenizer = Tokenizer(num_words=max_words)\n",
    "tokenizer.fit_on_texts(x)"
   ]
  },
  {
   "cell_type": "code",
   "execution_count": 33,
   "id": "3f2f2138",
   "metadata": {},
   "outputs": [],
   "source": [
    "x_seq = tokenizer.texts_to_sequences(x)  # Tokenize input text data and x_padded ensures consistent sequence length\n",
    "x_padded = pad_sequences(x_seq, maxlen=max_sequence_length)  "
   ]
  },
  {
   "cell_type": "code",
   "execution_count": 34,
   "id": "9df1a2c2",
   "metadata": {},
   "outputs": [],
   "source": [
    "label_encoder = LabelEncoder()\n",
    "y_encoded = label_encoder.fit_transform(y)"
   ]
  },
  {
   "cell_type": "code",
   "execution_count": 35,
   "id": "1033e8e9",
   "metadata": {},
   "outputs": [],
   "source": [
    "x_train_rnn, x_test_rnn, y_train_rnn, y_test_rnn = train_test_split(x_padded, y_encoded, test_size=0.2, random_state=42)"
   ]
  },
  {
   "cell_type": "code",
   "execution_count": 36,
   "id": "19b7d277",
   "metadata": {},
   "outputs": [],
   "source": [
    "# Create a Sequential model\n",
    "model = Sequential()\n",
    "\n",
    "# Add an Embedding layer for word embeddings\n",
    "# input_dim: Size of the vocabulary (number of unique words)\n",
    "# output_dim: Dimensionality of the word embeddings\n",
    "# input_length: Length of input sequences (number of words in each sequence)\n",
    "model.add(Embedding(input_dim=max_words, output_dim=embedding_dim, input_length=max_sequence_length))\n",
    "\n",
    "# Add an LSTM (Long Short-Term Memory) layer with 64 units\n",
    "model.add(LSTM(64))\n",
    "\n",
    "# Add a Dense layer with a single output unit and sigmoid activation function for binary classification\n",
    "model.add(Dense(1, activation='sigmoid'))\n"
   ]
  },
  {
   "cell_type": "code",
   "execution_count": 37,
   "id": "9858045a",
   "metadata": {},
   "outputs": [
    {
     "name": "stdout",
     "output_type": "stream",
     "text": [
      "Epoch 1/10\n",
      "39/39 [==============================] - 10s 187ms/step - loss: 0.4175 - accuracy: 0.8700 - val_loss: 0.2377 - val_accuracy: 0.9003\n",
      "Epoch 2/10\n",
      "39/39 [==============================] - 7s 174ms/step - loss: 0.1069 - accuracy: 0.9665 - val_loss: 0.0954 - val_accuracy: 0.9706\n",
      "Epoch 3/10\n",
      "39/39 [==============================] - 6s 163ms/step - loss: 0.0362 - accuracy: 0.9926 - val_loss: 0.0792 - val_accuracy: 0.9755\n",
      "Epoch 4/10\n",
      "39/39 [==============================] - 7s 172ms/step - loss: 0.0192 - accuracy: 0.9959 - val_loss: 0.0917 - val_accuracy: 0.9788\n",
      "Epoch 5/10\n",
      "39/39 [==============================] - 7s 176ms/step - loss: 0.0111 - accuracy: 0.9988 - val_loss: 0.0915 - val_accuracy: 0.9755\n",
      "Epoch 6/10\n",
      "39/39 [==============================] - 7s 177ms/step - loss: 0.0116 - accuracy: 0.9971 - val_loss: 0.0929 - val_accuracy: 0.9771\n",
      "Epoch 7/10\n",
      "39/39 [==============================] - 7s 179ms/step - loss: 0.0085 - accuracy: 0.9988 - val_loss: 0.0849 - val_accuracy: 0.9739\n",
      "Epoch 8/10\n",
      "39/39 [==============================] - 6s 166ms/step - loss: 0.0146 - accuracy: 0.9971 - val_loss: 0.1012 - val_accuracy: 0.9739\n",
      "Epoch 9/10\n",
      "39/39 [==============================] - 7s 178ms/step - loss: 0.0068 - accuracy: 0.9992 - val_loss: 0.0937 - val_accuracy: 0.9771\n",
      "Epoch 10/10\n",
      "39/39 [==============================] - 7s 179ms/step - loss: 0.0048 - accuracy: 0.9992 - val_loss: 0.0848 - val_accuracy: 0.9804\n"
     ]
    },
    {
     "data": {
      "text/plain": [
       "<keras.src.callbacks.History at 0x1e013d5ef20>"
      ]
     },
     "execution_count": 37,
     "metadata": {},
     "output_type": "execute_result"
    }
   ],
   "source": [
    "model.compile(loss='binary_crossentropy', optimizer='adam', metrics=['accuracy'])\n",
    "model.fit(x_train_rnn, y_train_rnn, validation_data=(x_test_rnn, y_test_rnn), epochs=10, batch_size=64)"
   ]
  },
  {
   "cell_type": "code",
   "execution_count": 38,
   "id": "3f658fda",
   "metadata": {},
   "outputs": [
    {
     "name": "stdout",
     "output_type": "stream",
     "text": [
      "20/20 [==============================] - 1s 36ms/step\n"
     ]
    }
   ],
   "source": [
    "# Applying a threshold of 0.5 to the probabilities to get binary class predictions\n",
    "# Values greater than 0.5 are assigned the label 1 (positive)\n",
    "#values less than or equal to 0.5 are assigned the label 0 (negative).\n",
    "y_pred_rnn = (model.predict(x_test_rnn) > 0.5).astype(\"int32\")"
   ]
  },
  {
   "cell_type": "code",
   "execution_count": 39,
   "id": "07de875d",
   "metadata": {
    "scrolled": true
   },
   "outputs": [
    {
     "name": "stdout",
     "output_type": "stream",
     "text": [
      "Recurrent Neural Network (RNN):\n",
      "Accuracy: 0.9803921568627451\n",
      "              precision    recall  f1-score   support\n",
      "\n",
      "           0       0.98      1.00      0.99       521\n",
      "           1       0.99      0.88      0.93        91\n",
      "\n",
      "    accuracy                           0.98       612\n",
      "   macro avg       0.98      0.94      0.96       612\n",
      "weighted avg       0.98      0.98      0.98       612\n",
      "\n"
     ]
    }
   ],
   "source": [
    "print(\"Recurrent Neural Network (RNN):\")\n",
    "print(\"Accuracy:\", accuracy_score(y_test_rnn, y_pred_rnn))\n",
    "print(classification_report(y_test_rnn, y_pred_rnn))"
   ]
  },
  {
   "cell_type": "code",
   "execution_count": 40,
   "id": "a7a3d300",
   "metadata": {},
   "outputs": [
    {
     "name": "stdout",
     "output_type": "stream",
     "text": [
      "Accuracy: 0.9803921568627451\n",
      "Precision: 0.9876543209876543\n",
      "Recall: 0.8791208791208791\n",
      "F1 Score: 0.9302325581395348\n",
      "Confusion Matrix:\n",
      "[[520   1]\n",
      " [ 11  80]]\n"
     ]
    }
   ],
   "source": [
    "algorithm_name = 'Recurrent Neural Network (RNN)'\n",
    "accuracy = accuracy_score(y_test_rnn, y_pred_rnn)\n",
    "precision = precision_score(y_test_rnn, y_pred_rnn)\n",
    "recall = recall_score(y_test_rnn, y_pred_rnn)\n",
    "f1 = f1_score(y_test_rnn, y_pred_rnn)\n",
    "conf_matrix = confusion_matrix(y_test_rnn, y_pred_rnn)\n",
    "\n",
    "# Print the classification metrics\n",
    "print(\"Accuracy:\", accuracy)\n",
    "print(\"Precision:\", precision)\n",
    "print(\"Recall:\", recall)\n",
    "print(\"F1 Score:\", f1)\n",
    "print(\"Confusion Matrix:\")\n",
    "print(conf_matrix)\n",
    "\n",
    "# Append results to a DataFrame (assuming you have initialized results_df as in previous examples)\n",
    "results_df = results_df.append({\n",
    "    'Algorithm Name': algorithm_name,\n",
    "    'Accuracy': accuracy,\n",
    "    'Precision': precision,\n",
    "    'Recall': recall,\n",
    "    'F1 Score': f1,\n",
    "    'Confusion Matrix': conf_matrix\n",
    "}, ignore_index=True)"
   ]
  },
  {
   "cell_type": "code",
   "execution_count": 41,
   "id": "da521671",
   "metadata": {},
   "outputs": [
    {
     "data": {
      "text/html": [
       "<div>\n",
       "<style scoped>\n",
       "    .dataframe tbody tr th:only-of-type {\n",
       "        vertical-align: middle;\n",
       "    }\n",
       "\n",
       "    .dataframe tbody tr th {\n",
       "        vertical-align: top;\n",
       "    }\n",
       "\n",
       "    .dataframe thead th {\n",
       "        text-align: right;\n",
       "    }\n",
       "</style>\n",
       "<table border=\"1\" class=\"dataframe\">\n",
       "  <thead>\n",
       "    <tr style=\"text-align: right;\">\n",
       "      <th></th>\n",
       "      <th>Algorithm Name</th>\n",
       "      <th>Accuracy</th>\n",
       "      <th>Precision</th>\n",
       "      <th>Recall</th>\n",
       "      <th>F1 Score</th>\n",
       "      <th>Confusion Matrix</th>\n",
       "    </tr>\n",
       "  </thead>\n",
       "  <tbody>\n",
       "    <tr>\n",
       "      <th>0</th>\n",
       "      <td>Multinomial Naive Bayes</td>\n",
       "      <td>0.931373</td>\n",
       "      <td>0.696000</td>\n",
       "      <td>0.956044</td>\n",
       "      <td>0.805556</td>\n",
       "      <td>[[483, 38], [4, 87]]</td>\n",
       "    </tr>\n",
       "    <tr>\n",
       "      <th>1</th>\n",
       "      <td>Recurrent Neural Network (RNN)</td>\n",
       "      <td>0.980392</td>\n",
       "      <td>0.987654</td>\n",
       "      <td>0.879121</td>\n",
       "      <td>0.930233</td>\n",
       "      <td>[[520, 1], [11, 80]]</td>\n",
       "    </tr>\n",
       "  </tbody>\n",
       "</table>\n",
       "</div>"
      ],
      "text/plain": [
       "                   Algorithm Name  Accuracy  Precision    Recall  F1 Score  \\\n",
       "0         Multinomial Naive Bayes  0.931373   0.696000  0.956044  0.805556   \n",
       "1  Recurrent Neural Network (RNN)  0.980392   0.987654  0.879121  0.930233   \n",
       "\n",
       "       Confusion Matrix  \n",
       "0  [[483, 38], [4, 87]]  \n",
       "1  [[520, 1], [11, 80]]  "
      ]
     },
     "execution_count": 41,
     "metadata": {},
     "output_type": "execute_result"
    }
   ],
   "source": [
    "results_df"
   ]
  },
  {
   "cell_type": "code",
   "execution_count": 42,
   "id": "3a0ff813",
   "metadata": {},
   "outputs": [],
   "source": [
    "#TN|FP\n",
    "#FN|TP"
   ]
  }
 ],
 "metadata": {
  "kernelspec": {
   "display_name": "Python 3 (ipykernel)",
   "language": "python",
   "name": "python3"
  },
  "language_info": {
   "codemirror_mode": {
    "name": "ipython",
    "version": 3
   },
   "file_extension": ".py",
   "mimetype": "text/x-python",
   "name": "python",
   "nbconvert_exporter": "python",
   "pygments_lexer": "ipython3",
   "version": "3.10.9"
  },
  "toc": {
   "base_numbering": "",
   "nav_menu": {},
   "number_sections": false,
   "sideBar": true,
   "skip_h1_title": true,
   "title_cell": "Table of Contents",
   "title_sidebar": "Contents",
   "toc_cell": true,
   "toc_position": {
    "height": "calc(100% - 180px)",
    "left": "10px",
    "top": "150px",
    "width": "188.09px"
   },
   "toc_section_display": true,
   "toc_window_display": true
  }
 },
 "nbformat": 4,
 "nbformat_minor": 5
}
